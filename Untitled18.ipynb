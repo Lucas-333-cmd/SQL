{
  "nbformat": 4,
  "nbformat_minor": 0,
  "metadata": {
    "colab": {
      "provenance": [],
      "toc_visible": true,
      "authorship_tag": "ABX9TyPHBzS82Z6I4ccBWzyg6AYe",
      "include_colab_link": true
    },
    "kernelspec": {
      "name": "python3",
      "display_name": "Python 3"
    },
    "language_info": {
      "name": "python"
    }
  },
  "cells": [
    {
      "cell_type": "markdown",
      "metadata": {
        "id": "view-in-github",
        "colab_type": "text"
      },
      "source": [
        "<a href=\"https://colab.research.google.com/github/Lucas-333-cmd/SQL/blob/main/Untitled18.ipynb\" target=\"_parent\"><img src=\"https://colab.research.google.com/assets/colab-badge.svg\" alt=\"Open In Colab\"/></a>"
      ]
    },
    {
      "cell_type": "code",
      "execution_count": 6,
      "metadata": {
        "id": "D_oI10WkoFs-"
      },
      "outputs": [],
      "source": [
        "import statistics as st\n",
        "from scipy.stats import pearsonr\n",
        "import math\n",
        "from sklearn.linear_model import LinearRegression\n",
        "import numpy as np\n",
        "import pandas as pd\n",
        "import matplotlib.pyplot as plt\n",
        "from matplotlib_venn import venn2, venn3, venn2_circles, venn3_circles\n",
        "from collections import deque"
      ]
    },
    {
      "cell_type": "markdown",
      "source": [
        "# **Estatística**"
      ],
      "metadata": {
        "id": "R3yipSEvoHaS"
      }
    },
    {
      "cell_type": "markdown",
      "source": [
        "**Variância e Desvio Padrão**"
      ],
      "metadata": {
        "id": "XTEarrygoNql"
      }
    },
    {
      "cell_type": "code",
      "source": [
        "#Função de variância amostral, para a populacional, comente o \"-1\"\n",
        "def var(dados):\n",
        "    ocorrencia = len(dados) - 1\n",
        "    media = st.mean(dados)\n",
        "    quadrados = [(x - media) ** 2 for x in dados]\n",
        "    variancia = sum(quadrados) / ocorrencia\n",
        "    return round(variancia, 2)"
      ],
      "metadata": {
        "id": "ogCNJbGqoLgG"
      },
      "execution_count": 5,
      "outputs": []
    },
    {
      "cell_type": "code",
      "source": [
        "lista = [10, 2, 15, 11, 9, 3, 7, 15, 12, 5, 8]\n",
        "variancia = var(lista)\n",
        "desvioPadrao = round(math.sqrt(var(lista)) , 2)\n",
        "\n",
        "print(f'A variância é: {variancia}')\n",
        "print(f'O Desvio Padrão é: {desvioPadrao}' )"
      ],
      "metadata": {
        "colab": {
          "base_uri": "https://localhost:8080/"
        },
        "id": "GRVkGtl_ogrn",
        "outputId": "d855dff4-7efc-4ffb-fefa-5464f778b503"
      },
      "execution_count": 11,
      "outputs": [
        {
          "output_type": "stream",
          "name": "stdout",
          "text": [
            "A variância é: 19.16\n",
            "O Desvio Padrão é: 4.38\n"
          ]
        }
      ]
    },
    {
      "cell_type": "markdown",
      "source": [
        "**Correlação de Pearson**"
      ],
      "metadata": {
        "id": "ENPYSdnKozx4"
      }
    },
    {
      "cell_type": "code",
      "source": [
        "# Dados\n",
        "x = [5, 8, 7, 10, 6, 7, 9, 3, 8, 2]\n",
        "y = [6, 9, 8, 10, 5, 7, 8, 4, 6, 2]\n",
        "\n",
        "# Calcular correlação de Pearson\n",
        "correlacao, p_valor = pearsonr(x, y)\n",
        "determinação = correlacao ** 2\n",
        "\n",
        "#arredondar os resultados\n",
        "correlacao = round(correlacao, 2)\n",
        "p_valor = round(p_valor, 2)\n",
        "determinação = round(determinação, 2)\n",
        "\n",
        "print(\"Correlação de Pearson (Coeficiente de Relação):\", correlacao)\n",
        "print(\"Valor-p:\", p_valor)\n",
        "print(\"Coeficiente de Determinação:\", determinação)"
      ],
      "metadata": {
        "colab": {
          "base_uri": "https://localhost:8080/"
        },
        "id": "-OveG6qMo33U",
        "outputId": "0576dace-5f85-4bae-a0b8-6bffb512f1bd"
      },
      "execution_count": 13,
      "outputs": [
        {
          "output_type": "stream",
          "name": "stdout",
          "text": [
            "Correlação de Pearson (Coeficiente de Relação): 0.91\n",
            "Valor-p: 0.0\n",
            "Coeficiente de Determinação: 0.83\n"
          ]
        }
      ]
    },
    {
      "cell_type": "markdown",
      "source": [
        "**Regressão Linear**"
      ],
      "metadata": {
        "id": "_jw0_pBV7d3V"
      }
    },
    {
      "cell_type": "code",
      "source": [
        "# Dados de exemplo\n",
        "X = [[1], [2], [3], [4], [5]]  # Variável independente\n",
        "y = [2, 4, 6, 8, 10]            # Variável dependente"
      ],
      "metadata": {
        "id": "gBZCH4M07gxA"
      },
      "execution_count": 2,
      "outputs": []
    },
    {
      "cell_type": "code",
      "source": [
        "\n",
        "# Criando um modelo de regressão linear\n",
        "modelo = LinearRegression()\n",
        "\n",
        "# Treinando o modelo\n",
        "modelo.fit(X, y)\n",
        "\n",
        "# Fazendo previsões\n",
        "previsoes = modelo.predict(X)\n",
        "\n",
        "# Coeficientes da reta de regressão\n",
        "coef_angular = modelo.coef_[0]\n",
        "coef_linear = modelo.intercept_\n",
        "\n",
        "print(\"Coeficiente angular:\", coef_angular)\n",
        "print(\"Coeficiente linear:\", coef_linear)"
      ],
      "metadata": {
        "colab": {
          "base_uri": "https://localhost:8080/"
        },
        "id": "ukXRluCa7mbH",
        "outputId": "78cbe8e9-8486-4277-9ea4-01c184354161"
      },
      "execution_count": 3,
      "outputs": [
        {
          "output_type": "stream",
          "name": "stdout",
          "text": [
            "Coeficiente angular: 2.0\n",
            "Coeficiente linear: 0.0\n"
          ]
        }
      ]
    },
    {
      "cell_type": "markdown",
      "source": [
        "# **Probabilidade**\n",
        "\n",
        "**Determinístico** - O resultado é sempre provável de acontecer\n",
        "\n",
        "**Aleatório (Não determinístico)** O resultado é mais complicado de ser previsto, mas à medida que a quantidade de experimentos e ocorrências acontecem, ele passa a ser mais fácil de ter sua ocorrência calculada"
      ],
      "metadata": {
        "id": "8lIxJyLz_Ps1"
      }
    },
    {
      "cell_type": "markdown",
      "source": [
        "**Interseção e União de Conjuntos**"
      ],
      "metadata": {
        "id": "qGzdf5I2KN-l"
      }
    },
    {
      "cell_type": "code",
      "source": [
        "A = {1, 2, 3}\n",
        "B = {3, 4, 5}\n",
        "\n",
        "# União de conjuntos\n",
        "uniao = A.union(B)\n",
        "print(f' A União de conjuntos é: {uniao}')\n",
        "\n",
        "venn2([A, B], set_labels = ('A', 'B'))\n",
        "plt.show()\n",
        "\n",
        "# Interseção de conjuntos\n",
        "intersecao = A.intersection(B)\n",
        "print(f' A Interseção de conjuntos é: {intersecao}')"
      ],
      "metadata": {
        "colab": {
          "base_uri": "https://localhost:8080/",
          "height": 415
        },
        "id": "bVVoymmmB5Tv",
        "outputId": "0027ccd6-3941-436f-fa49-39553bae35f6"
      },
      "execution_count": 4,
      "outputs": [
        {
          "output_type": "stream",
          "name": "stdout",
          "text": [
            " A União de conjuntos é: {1, 2, 3, 4, 5}\n"
          ]
        },
        {
          "output_type": "display_data",
          "data": {
            "text/plain": [
              "<Figure size 640x480 with 1 Axes>"
            ],
            "image/png": "[encoded data removed]"
          },
          "metadata": {}
        },
        {
          "output_type": "stream",
          "name": "stdout",
          "text": [
            " A Interseção de conjuntos é: {3}\n"
          ]
        }
      ]
    },
    {
      "cell_type": "code",
      "source": [
        "#tamanho da imagem\n",
        "plt.figure(figsize=(4,4))\n",
        "\n",
        "#Calcular os subsets\n",
        "def calcular_subsets(a, b, c, ab, ac, bc, abc):\n",
        "    somente_a = a - ab - ac + abc\n",
        "    somente_b = b - ab - bc + abc\n",
        "    somente_c = c - ac - bc + abc\n",
        "    ab_somente = ab - abc\n",
        "    ac_somente = ac - abc\n",
        "    bc_somente = bc - abc\n",
        "    valores = [somente_a, somente_b, ab_somente, somente_c, ac_somente, bc_somente, abc]\n",
        "    return valores\n",
        "\n",
        "# Definir os títulos dos conjuntos\n",
        "titulo_conjunto_A = str(input(\"Digite o nome do conjunto A: \"))\n",
        "titulo_conjunto_B = str(input(\"Digite o nome do conjunto B: \"))\n",
        "titulo_conjunto_C = str(input(\"Digite o nome do conjunto C: \"))\n",
        "\n",
        "# Definir os valores dos conjuntos\n",
        "a = int(input(f\"Digite o valor de {titulo_conjunto_A}: \"))\n",
        "b = int(input(f\"Digite o valor de {titulo_conjunto_B}: \"))\n",
        "c = int(input(f\"Digite o valor de {titulo_conjunto_C}: \"))\n",
        "ab = int(input(f\"Digite o valor de {titulo_conjunto_A} e {titulo_conjunto_B}: \"))\n",
        "ac = int(input(f\"Digite o valor de {titulo_conjunto_A} e {titulo_conjunto_C}: \"))\n",
        "bc = int(input(f\"Digite o valor de {titulo_conjunto_B} e {titulo_conjunto_C}: \"))\n",
        "abc = int(input(f\"Digite o valor de {titulo_conjunto_A}, {titulo_conjunto_B} e {titulo_conjunto_C}: \"))\n",
        "outros = int(input(\"Digite o valor de outros: \"))\n",
        "\n",
        "# Calcular os valores dos subconjuntos\n",
        "valores = calcular_subsets(a, b, c, ab, ac, bc, abc)\n",
        "nenhum = a + b + c - ab - ac - bc + abc + outros\n",
        "\n",
        "# Conjuntos\n",
        "v = venn3(subsets=valores, set_labels=('A', 'B', 'C'))\n",
        "c = venn3_circles(subsets=valores, linestyle='dashed', linewidth=1.0)\n",
        "c[0].set_lw(1.0)\n",
        "c[0].set_ls('dotted')\n",
        "c[1].set_lw(1.0)\n",
        "c[1].set_ls('dotted')\n",
        "c[2].set_lw(1.0)\n",
        "c[2].set_ls('dotted')\n",
        "\n",
        "# Adicionando as anotações\n",
        "plt.annotate(titulo_conjunto_A,\n",
        "             xy=v.get_label_by_id('100').get_position() - np.array([0, 0.05]),\n",
        "             xytext=(-50, 50),\n",
        "             ha='center',\n",
        "             textcoords='offset points',\n",
        "             bbox=dict(boxstyle='round,pad=0.5',\n",
        "                       fc='blue',\n",
        "                       alpha=0.1),\n",
        "             arrowprops=dict(arrowstyle='->', connectionstyle='arc3,rad=0.5', color='red'))\n",
        "\n",
        "plt.annotate(titulo_conjunto_B,\n",
        "             xy=v.get_label_by_id('010').get_position() - np.array([0, 0.05]),\n",
        "             xytext=(50, -50),\n",
        "             ha='center',\n",
        "             textcoords='offset points',\n",
        "             bbox=dict(\n",
        "                 boxstyle='round,pad=0.5',\n",
        "                       fc='green',\n",
        "                       alpha=0.1),\n",
        "             arrowprops=dict(arrowstyle='->', connectionstyle='arc3,rad=0.5', color='green'))\n",
        "\n",
        "plt.annotate(titulo_conjunto_C,\n",
        "             xy=v.get_label_by_id('001').get_position() - np.array([0, 0.05]),\n",
        "             xytext=(0, -70),\n",
        "             ha='center',\n",
        "             textcoords='offset points',\n",
        "             bbox=dict(boxstyle='round,pad=0.5',\n",
        "                       fc='red',\n",
        "                       alpha=0.1),\n",
        "             arrowprops=dict(arrowstyle='->', connectionstyle='arc3,rad=0.5', color='blue'))\n",
        "\n",
        "# Anotação para os elementos que não pertencem a nenhum grupo\n",
        "plt.annotate(f'Nenhum grupo\\n({nenhum})',\n",
        "             xy=(0.5, 0.5),\n",
        "             xytext=(0, -150),\n",
        "             ha='center',\n",
        "             textcoords='offset points',\n",
        "             bbox=dict(boxstyle='round,pad=0.5',\n",
        "                       fc='yellow', alpha=0.1),\n",
        "             arrowprops=dict(arrowstyle='fancy', connectionstyle='arc3,rad=0.5', color='gray'))\n",
        "\n",
        "plt.title(\"Amostra do Diagrama de Venn\")\n",
        "\n",
        "plt.show()"
      ],
      "metadata": {
        "colab": {
          "base_uri": "https://localhost:8080/",
          "height": 610
        },
        "id": "9P1aUzAMCHyS",
        "outputId": "5635b28d-2aa8-4681-83bb-05ad2b4c95fd"
      },
      "execution_count": 51,
      "outputs": [
        {
          "name": "stdout",
          "output_type": "stream",
          "text": [
            "Digite o nome do conjunto A: Alongamento\n",
            "Digite o nome do conjunto B: Hidroginástica\n",
            "Digite o nome do conjunto C: Musculação\n",
            "Digite o valor de Alongamento: 109\n",
            "Digite o valor de Hidroginástica: 203\n",
            "Digite o valor de Musculação: 162\n",
            "Digite o valor de Alongamento e Hidroginástica: 25\n",
            "Digite o valor de Alongamento e Musculação: 28\n",
            "Digite o valor de Hidroginástica e Musculação: 41\n",
            "Digite o valor de Alongamento, Hidroginástica e Musculação: 5\n",
            "Digite o valor de outros: 115\n"
          ]
        },
        {
          "output_type": "display_data",
          "data": {
            "text/plain": [
              "<Figure size 400x400 with 1 Axes>"
            ],
            "image/png": "[encoded data removed]"
          },
          "metadata": {}
        }
      ]
    },
    {
      "cell_type": "code",
      "source": [],
      "metadata": {
        "id": "U9XdG-dVObZU"
      },
      "execution_count": null,
      "outputs": []
    }
  ]
}